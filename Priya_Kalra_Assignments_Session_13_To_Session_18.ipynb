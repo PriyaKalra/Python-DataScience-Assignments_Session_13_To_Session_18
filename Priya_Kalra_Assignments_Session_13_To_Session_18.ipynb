{
 "cells": [
  {
   "cell_type": "markdown",
   "metadata": {},
   "source": [
    "### 2.1. Problem Statement: STATISTICS 1"
   ]
  },
  {
   "cell_type": "markdown",
   "metadata": {},
   "source": [
    "#### Question 1: You survey households in your area to find the average rent they are paying. Find the standard deviation from the following data: $1550,$1700,$900,$850,$1000,$950."
   ]
  },
  {
   "cell_type": "code",
   "execution_count": 29,
   "metadata": {},
   "outputs": [
    {
     "name": "stdout",
     "output_type": "stream",
     "text": [
      "Calculation using custom method\n",
      "Mean 1158.3333333333333\n",
      "variance 135416.6666666667\n",
      "std_dev 367.99003609699366\n",
      "Calculation using statistics library\n",
      "Mean 1158.3333333333333\n",
      "Variance 135416.66666666666\n",
      "std_dev 367.9900360969936\n"
     ]
    }
   ],
   "source": [
    "def find_mean(arr):\n",
    " return sum(arr)/len(arr)\n",
    "\n",
    "def find_variance(arr):\n",
    " variance = 0.0\n",
    " from math import sqrt\n",
    " \n",
    " mean = find_mean(arr)\n",
    " variance = sum((x - mean)**2 for x in arr) / (len(arr)-1)\n",
    " return variance\n",
    "\n",
    "def find_std_dev(arr):\n",
    " return find_variance(arr)**0.5\n",
    "\n",
    "arr = [1550,1700,900,850,1000,950]\n",
    "\n",
    "print(\"Calculation using custom method\")\n",
    "print (\"Mean \" + str(find_mean(arr)))\n",
    "print (\"variance \" + str(find_variance(arr)))\n",
    "print(\"std_dev \" + str(find_std_dev(arr)))\n",
    "\n",
    "print(\"Calculation using statistics library\")\n",
    "import statistics as stat\n",
    "print(str(\"Mean \" + str(stat.mean(arr))))\n",
    "print(str(\"Variance \" + str(stat.variance(arr))))\n",
    "print(str(\"std_dev \" + str(stat.stdev(arr))))"
   ]
  },
  {
   "cell_type": "markdown",
   "metadata": {},
   "source": [
    "#### Question 2: Find the variance for the following set of data representing trees in California (heights in feet): 3,21,98,203,17,9"
   ]
  },
  {
   "cell_type": "code",
   "execution_count": 30,
   "metadata": {},
   "outputs": [
    {
     "name": "stdout",
     "output_type": "stream",
     "text": [
      "Calculation using statistics library\n",
      "Mean 58.5\n",
      "Variance 6219.9\n",
      "std_dev 78.86634263106157\n"
     ]
    }
   ],
   "source": [
    "arr = [3,21,98,203,17,9]\n",
    "\n",
    "print(\"Calculation using statistics library\")\n",
    "import statistics as stat\n",
    "print(str(\"Mean \" + str(stat.mean(arr))))\n",
    "print(str(\"Variance \" + str(stat.variance(arr))))\n",
    "print(str(\"std_dev \" + str(stat.stdev(arr))))\n"
   ]
  },
  {
   "cell_type": "markdown",
   "metadata": {},
   "source": [
    "#### Question 3: In a class on 100 students, 80 students passed in all subjects, 10 failed in one subject, 7 failed in two subjects and 3 failed in three subjects. Find the probability distribution of the variable for number of subjects a student from the given class has failed in.\n"
   ]
  },
  {
   "cell_type": "code",
   "execution_count": 31,
   "metadata": {},
   "outputs": [
    {
     "name": "stdout",
     "output_type": "stream",
     "text": [
      "Probability failed in no subjects:  0.8\n",
      "Probability failed in 1 subject:  0.1\n",
      "Probability failed in 2 subjects:  0.07\n",
      "Probability failed in 3 subjects:  0.03\n"
     ]
    }
   ],
   "source": [
    "import matplotlib.pyplot as plt\n",
    "%matplotlib inline\n",
    "n_students = 100\n",
    "passed_all = 80\n",
    "failed_one = 10\n",
    "failed_two = 7\n",
    "failed_three = 3\n",
    "\n",
    "num_students_not_passed_all = n_students - passed_all\n",
    "prob_failed_none = passed_all / n_students\n",
    "prob_failed_in_one = failed_one/n_students\n",
    "prob_failed_in_two = failed_two/n_students\n",
    "prob_failed_in_three = failed_three/n_students\n",
    "\n",
    "print(\"Probability failed in no subjects: \",prob_failed_none)\n",
    "print(\"Probability failed in 1 subject: \",prob_failed_in_one)\n",
    "print(\"Probability failed in 2 subjects: \",prob_failed_in_two)\n",
    "print(\"Probability failed in 3 subjects: \",prob_failed_in_three)"
   ]
  },
  {
   "cell_type": "code",
   "execution_count": 32,
   "metadata": {},
   "outputs": [
    {
     "data": {
      "text/plain": [
       "Text(0.5, 1.0, 'PDF/CDF of students w.r.t subjects passed')"
      ]
     },
     "execution_count": 32,
     "metadata": {},
     "output_type": "execute_result"
    },
    {
     "data": {
      "image/png": "[encoded data removed]",
      "text/plain": [
       "<Figure size 864x576 with 1 Axes>"
      ]
     },
     "metadata": {
      "needs_background": "light"
     },
     "output_type": "display_data"
    }
   ],
   "source": [
    "x = [prob_failed_none,prob_failed_in_one,prob_failed_in_two,prob_failed_in_three]\n",
    "counts, bin_edges = np.histogram(x, bins=10, density= True)\n",
    "pdf = counts/(sum(counts))\n",
    "cdf = np.cumsum(pdf)\n",
    "\n",
    "plt.figure(figsize=(12,8))\n",
    "\n",
    "plt.subplot(1, 2, 1)\n",
    "plt.plot(bin_edges[1:], pdf,label=\"PDF\")\n",
    "plt.plot(bin_edges[1:], cdf,label=\"CDF\")\n",
    "plt.legend()\n",
    "plt.tight_layout()\n",
    "plt.title(\"PDF/CDF of students w.r.t subjects passed\")"
   ]
  },
  {
   "cell_type": "code",
   "execution_count": 33,
   "metadata": {},
   "outputs": [],
   "source": [
    "import numpy as np\n",
    "import matplotlib.pyplot as plt\n",
    "from scipy.stats import binom\n",
    "from scipy.special import factorial"
   ]
  },
  {
   "cell_type": "markdown",
   "metadata": {},
   "source": [
    "### 2.2. Problem Statement: STATISTICS 2"
   ]
  },
  {
   "cell_type": "markdown",
   "metadata": {},
   "source": [
    "#### Question 1: A test is conducted which is consisting of 20 MCQs (multiple choices questions) with every MCQ having its four options out of which only one is correct. Determine the probability that a person undertaking that test has answered exactly 5 questions wrong."
   ]
  },
  {
   "cell_type": "code",
   "execution_count": 34,
   "metadata": {},
   "outputs": [
    {
     "name": "stdout",
     "output_type": "stream",
     "text": [
      "Probability of exactly 5 out of 20 answers incorrect is 0.0000034\n"
     ]
    }
   ],
   "source": [
    "#Let us assume that in an experiment done, ‘n’ is representing the number of trials attempted, \n",
    "#and that ‘k’ is the count of successes that is to be attained in those ‘n’ trials. \n",
    "#This implies that number of failures clearly will be ‘n - k’.\n",
    "\n",
    "n = 20\n",
    "#n - k  = 5\n",
    "failures = 5\n",
    "k = 15 \n",
    "#the probability of success = probability of giving a right answer = p_s\n",
    "p_s = failures / n\n",
    "    \n",
    "#the probability of failure = probability of giving a wrong answer p_f = 1 - p_s \n",
    "p_f = 1 - p_s\n",
    "\n",
    "#we substitute these values in the formula for Binomial distribution we get,\n",
    "#So, P (exactly 5 out of 20 answers incorrect) = C (20, 5) * (1/4)**15 * (3/4)** 5\n",
    "\n",
    "P = (factorial(n) /(factorial(k) * factorial(n - k))) * np.power(p_s,k) * np.power(p_f,failures)\n",
    "\n",
    "print(\"Probability of exactly 5 out of 20 answers incorrect is {:0.7f}\".format(P))"
   ]
  },
  {
   "cell_type": "markdown",
   "metadata": {},
   "source": [
    "#### Question 2: A die marked A to E is rolled 50 times. Find the probability of getting a “D” exactly 5 times."
   ]
  },
  {
   "cell_type": "code",
   "execution_count": 35,
   "metadata": {},
   "outputs": [
    {
     "name": "stdout",
     "output_type": "stream",
     "text": [
      "Probability of getting excatly D in 5 throws out of  50 number of trails conducted is 0.2\n"
     ]
    }
   ],
   "source": [
    "#Let us assume that in an experiment done, ‘n’ is representing the number of trials attempted, \n",
    "#and that ‘k’ is the count of successes that is to be attained in those ‘n’ trials. \n",
    "#This implies that number of failures clearly will be ‘n - k’.\n",
    " \n",
    "#Assuming, ‘s’ to be the probability of succeeding in a trial, we get that the probability of failure is ‘1 - s’.\n",
    "\n",
    "n = 50\n",
    "k =5\n",
    "failures = n - k\n",
    "#The probability of success = probability of getting a “D”\n",
    "p_s = 1/k\n",
    "\n",
    "#Hence, the probability of failure = probability of not getting a “D” = \n",
    "p_f = 1 - p_s \n",
    "\n",
    "\n",
    "print(\"Probability of getting excatly D in {} throws out of  {} number of trails conducted is {}\".format(k,n,p_s))"
   ]
  },
  {
   "cell_type": "markdown",
   "metadata": {},
   "source": [
    "#### Question 3: Two balls are drawn at random in succession without replacement from an urn containing 4 red balls and 6 black balls. Find the probabilities of all the possible outcomes."
   ]
  },
  {
   "cell_type": "code",
   "execution_count": 36,
   "metadata": {},
   "outputs": [],
   "source": [
    "red_ball = 4\n",
    "black_ball = 6\n",
    "total_balls = red_ball + black_ball\n",
    "\n",
    "#Sample of possible outcomes  = {R_ballB_ball,B_ballR_ball,B_ballB_bal,R_ballR_ball}\n",
    "\n",
    "#So the chances of picking a red ball  first is  4 out of 10 balls. So the probability is 4/10.\n",
    "p_first_red_ball = red_ball / total_balls\n",
    "\n",
    "#So the chances of picking a black ball second is 6 out of 9 balls. So the probability is 6/9.\n",
    "p_second_black_ball  = black_ball / (total_balls - 1)\n",
    "\n",
    "\n",
    "#So the chances of picking a black ball  first is  6 out of 10 balls. So the probability is 6/10.\n",
    "p_first_black_ball = black_ball / total_balls\n",
    "\n",
    "#So the chances of picking a red ball second is 4 out of 9 balls. So the probability is 4/9.\n",
    "p_second_red_ball  = red_ball / (total_balls - 1)\n",
    "#Probability that both the balls are red is computed here as:\n",
    "#= Total number of ways to select 2 red balls from the 4 red balls / \n",
    "#    Total number of ways to select 2 black  balls from 10 total balls\n",
    "\n",
    "P_2_r  = (factorial(red_ball) / (factorial(2) * factorial(red_ball - 2))) / (factorial(total_balls) / factorial(2)* factorial(total_balls - 2))\n",
    "\n",
    "#Probability that both the balls are black is computed here as:\n",
    "#= Total number of ways to select 2 black balls from the 6 red balls / \n",
    "#    Total number of ways to select 2 black  balls from 10 total balls\n",
    "\n",
    "P_2_b  = (factorial(black_ball) / (factorial(2) * factorial(black_ball -2))) / (factorial(total_balls) / factorial(2)* factorial(total_balls - 2))"
   ]
  },
  {
   "cell_type": "code",
   "execution_count": 37,
   "metadata": {},
   "outputs": [
    {
     "name": "stdout",
     "output_type": "stream",
     "text": [
      "The probabilities of all possible outcomes of picking Red ball first,Black Ball second is (0.40,0.67)\n"
     ]
    }
   ],
   "source": [
    "print(\"The probabilities of all possible outcomes of picking Red ball first,Black Ball second is ({:0.2f},{:0.2f})\".format(p_first_red_ball,p_second_black_ball))"
   ]
  },
  {
   "cell_type": "code",
   "execution_count": 38,
   "metadata": {},
   "outputs": [
    {
     "name": "stdout",
     "output_type": "stream",
     "text": [
      "The probabilities of all possible outcomes of picking black ball first,red Ball second is (0.60,0.44)\n"
     ]
    }
   ],
   "source": [
    "print(\"The probabilities of all possible outcomes of picking black ball first,red Ball second is ({:0.2f},{:0.2f})\".format(p_first_black_ball,p_second_red_ball))"
   ]
  },
  {
   "cell_type": "code",
   "execution_count": 39,
   "metadata": {},
   "outputs": [
    {
     "name": "stdout",
     "output_type": "stream",
     "text": [
      "The probabilities of all possible outcomes of picking both the balls as black is 0.0000000002\n"
     ]
    }
   ],
   "source": [
    "print(\"The probabilities of all possible outcomes of picking both the balls as black is {:0.10f}\".format(P_2_b))"
   ]
  },
  {
   "cell_type": "code",
   "execution_count": 40,
   "metadata": {},
   "outputs": [
    {
     "name": "stdout",
     "output_type": "stream",
     "text": [
      "The probabilities of all possible outcomes of picking both the balls as red is 0.0000000001\n"
     ]
    }
   ],
   "source": [
    "print(\"The probabilities of all possible outcomes of picking both the balls as red is {:0.10f}\".format(P_2_r))"
   ]
  },
  {
   "cell_type": "markdown",
   "metadata": {},
   "source": [
    "### 2.3. Problem Statement: STATISTICS 3"
   ]
  },
  {
   "cell_type": "markdown",
   "metadata": {},
   "source": [
    "#### Question 1: Blood glucose levels for obese patients have a mean of 100 with a standard deviation of 15. A researcher thinks that a diet high in raw cornstarch will have a positive effect on blood glucose levels. A sample of 36 patients who have tried the raw cornstarch diet have a mean glucose level of 108. Test the hypothesis that the raw cornstarch had an effect or not."
   ]
  },
  {
   "cell_type": "code",
   "execution_count": 41,
   "metadata": {},
   "outputs": [
    {
     "name": "stdout",
     "output_type": "stream",
     "text": [
      "Z Score : 3.2\n"
     ]
    }
   ],
   "source": [
    "import math\n",
    "no_of_sample = 36\n",
    "sample_mean = 108\n",
    "population_mean = 100\n",
    "population_sigma  = 15\n",
    "\n",
    "#Step-1: State the hypotheses. The population mean is 100.\n",
    "# H0:μ=100 ==> null hypothesis\n",
    "# H1:≠100  ==> Research hypothesis / Alternate hypothesis\n",
    "\n",
    "#Step-2:Set up the significance level. It is not given in the problem so let’s assume it as 5% (0.05).\n",
    "\n",
    "# This 5% is called Significance Level also known as alpha level (symbolized as α). \n",
    "#It means that if random chance probability is less than 5% then we can conclude that there is difference in \n",
    "#behavior of two different population. \n",
    "#(1- Significance level) is also known as Confidence Level \n",
    "#i.e. we can say that I am 95% confident that it is not driven by randomness.\n",
    "\n",
    "\n",
    "#step-3 : Claculate Z Score\n",
    "z = (sample_mean - population_mean) / (population_sigma /math.sqrt(no_of_sample))\n",
    "print(\"Z Score :\",z)\n",
    "\n",
    "# by looking at z- table and p-value associated with 3.20 is 0.9993 \n",
    "# The probability of having value less than 108 is 0.9993 and more than or equals to 108 is (1-0.9993)=0.0007.\n",
    "\n",
    "#Step-4: Sice the probability of having mean glucose level more than or equals to 108  is 0.0007 which is  less than 0.05 \n",
    "#so we will reject the Null hypothesis i.e. there is raw cornstarch effect."
   ]
  },
  {
   "cell_type": "markdown",
   "metadata": {},
   "source": [
    "#### 1. In one state, 52% of the voters are Republicans, and 48% are Democrats. In a second state, 47% of the voters are Republicans, and 53% are Democrats.Suppose a simple random sample of 100 voters are surveyed from each state.What is the probability that the survey will show a greater percentage of Republican voters in the second state than in the first state?"
   ]
  },
  {
   "cell_type": "code",
   "execution_count": 42,
   "metadata": {},
   "outputs": [
    {
     "name": "stdout",
     "output_type": "stream",
     "text": [
      "Mu :  0.050000000000000044 Std :  0.07061869440877536\n",
      "Z_score(p1,p2) :  -0.7080278164104213\n"
     ]
    }
   ],
   "source": [
    "#let :-\n",
    "#P1 = the proportion of Republican voters in the first state\n",
    "#P2 = the proportion of Republican voters in the second state\n",
    "#p1 = the proportion of Republican voters in the sample from the first state\n",
    "#p2 = the proportion of Republican voters in the sample from the second state. \n",
    "\n",
    "#The number of voters sampled from the first state (n1) = 100\n",
    "n1 = 100\n",
    "#The number of voters sampled from the second state (n2) = 100.\n",
    "n2 = 100\n",
    "\n",
    "P1 = 0.52\n",
    "#(1 - P1) = Q1\n",
    "Q1 = 0.48\n",
    "P2 = 0.47\n",
    "#(1 - P2) = Q2\n",
    "Q2 = 0.53\n",
    "\n",
    "\n",
    "#The mean of the difference in sample proportions .i.e Expected Value E[p1 -p2] = P1 - P2 = mu\n",
    "mu =  P1 - P2\n",
    "\n",
    "#The standard deviation of the difference (std)\n",
    "std = math.sqrt(((P1 * Q1 ) / n1) + ((P2 * Q2) /n2))\n",
    "print(\"Mu : \",mu,\"Std : \",std)\n",
    "\n",
    "#This problem requires us to find the probability that p1 is less than p2. \n",
    "#This is equivalent to finding the probability that p1 - p2 < 0. \n",
    "x = 0\n",
    "#To find this probability, we need to transform the random variable (p1 - p2) into a z-score. \n",
    "#That transformation appears below.\n",
    "Z_p1_p2 = ( x - mu)/std\n",
    "\n",
    "print(\"Z_score(p1,p2) : \",Z_p1_p2)\n",
    "\n",
    "#From Z table we find that the probability of a z-score being -0.7082 or less is 0.24.\n",
    "\n",
    "#Therefore, the probability that the survey will show a greater percentage of Republican voters \n",
    "#in the second state than in the first state is 0.24."
   ]
  },
  {
   "cell_type": "markdown",
   "metadata": {},
   "source": [
    "#### 2. You take the SAT and score 1100. The mean score for the SAT is 1026 and the standard deviation is 209. How well did you score on the test compared to the average test taker?"
   ]
  },
  {
   "cell_type": "code",
   "execution_count": 43,
   "metadata": {},
   "outputs": [
    {
     "name": "stdout",
     "output_type": "stream",
     "text": [
      "Z Score :  0.35406698564593303\n",
      "My Score is in the range 817 - 1235  with a  zscore 0.35\n"
     ]
    }
   ],
   "source": [
    "#The z score tells you how many standard deviations from the mean your score is\n",
    "x = 1100 #\n",
    "mu = 1026 # Population Mean\n",
    "sd = 209 #population standard deviation\n",
    "z = ( x - mu)/sd\n",
    "print(\"Z Score : \",z)\n",
    "#the above calculation shows that my score is 0.35 standard deviations above the mean\n",
    "print(\"My Score is in the range {} - {}  with a  zscore {:.2f}\".format(mu - sd,mu + sd,z))"
   ]
  },
  {
   "cell_type": "markdown",
   "metadata": {},
   "source": [
    "### 2.4. Problem Statement: STATISTICS 4"
   ]
  },
  {
   "cell_type": "markdown",
   "metadata": {},
   "source": [
    "#### Question 1: Is gender independent of education level? A random sample of 395 people were surveyed and each person was asked to report the highest education level they obtained. The data that resulted from the survey is summarized in the following table:\n",
    "\n",
    "#### High School Bachelors Masters Ph.d. Total\n",
    "\n",
    "#### Female 60 54 46 41 201\n",
    "\n",
    "#### Male 40 44 53 57 194\n",
    "\n",
    "#### Total 100 98 99 98 395\n",
    "\n"
   ]
  },
  {
   "cell_type": "markdown",
   "metadata": {},
   "source": [
    "### Question: Are gender and education level dependent at 5% level of significance? In other words, given the data collected above, is there a relationship between the gender of an individual and the level of education that they have obtained?\n",
    "\n",
    "#### Chi-Square test of independence\n",
    "#### H0 :Null Hypothesis: The two categorical variables are independent.\n",
    "#### H1:Alternative Hypothesis: The two categorical variables are dependent.¶\n"
   ]
  },
  {
   "cell_type": "code",
   "execution_count": 44,
   "metadata": {},
   "outputs": [
    {
     "name": "stdout",
     "output_type": "stream",
     "text": [
      "[40, 44, 53, 57, 60, 54, 46, 41]\n",
      "      Sex          Edu  Marks\n",
      "0    Male  High School     40\n",
      "1    Male    Bachelors     44\n",
      "2    Male      Masters     53\n",
      "3    Male        Ph.d.     57\n",
      "4  Female  High School     60\n",
      "5  Female    Bachelors     54\n",
      "6  Female      Masters     46\n",
      "7  Female        Ph.d.     41\n"
     ]
    }
   ],
   "source": [
    "import numpy as np\n",
    "import pandas as pd\n",
    "import scipy.stats as stats\n",
    "\n",
    "f_list = [60,54,46,41]\n",
    "m_list = [40,44,53,57]\n",
    "h = [40,60]\n",
    "b = [44,54]\n",
    "m = [53,46]\n",
    "p = [57,41]\n",
    "marks = m_list + f_list\n",
    "print(marks)\n",
    "sex =  ['Male','Male','Male','Male','Female','Female','Female','Female']\n",
    "edu = ['High School', 'Bachelors', 'Masters', 'Ph.d.','High School', 'Bachelors', 'Masters', 'Ph.d.']\n",
    "df_edu = pd.DataFrame({\"Sex\":sex,\"Edu\":edu,\"Marks\":marks})\n",
    "\n",
    "#df_edu = df_edu[['Sex','High School', 'Bachelors', 'Masters', 'Ph.d.']]\n",
    "\n",
    "#df_edu['Row_total'] = row_list\n",
    "print(df_edu)"
   ]
  },
  {
   "cell_type": "code",
   "execution_count": 45,
   "metadata": {},
   "outputs": [],
   "source": [
    "cross_tab = pd.crosstab([df_edu.Sex,df_edu.Marks],df_edu.Edu,margins=True)"
   ]
  },
  {
   "cell_type": "code",
   "execution_count": 46,
   "metadata": {},
   "outputs": [
    {
     "data": {
      "text/html": [
       "<div>\n",
       "<style scoped>\n",
       "    .dataframe tbody tr th:only-of-type {\n",
       "        vertical-align: middle;\n",
       "    }\n",
       "\n",
       "    .dataframe tbody tr th {\n",
       "        vertical-align: top;\n",
       "    }\n",
       "\n",
       "    .dataframe thead th {\n",
       "        text-align: right;\n",
       "    }\n",
       "</style>\n",
       "<table border=\"1\" class=\"dataframe\">\n",
       "  <thead>\n",
       "    <tr style=\"text-align: right;\">\n",
       "      <th>Edu</th>\n",
       "      <th>Bachelors</th>\n",
       "      <th>High School</th>\n",
       "      <th>Masters</th>\n",
       "      <th>Ph.d.</th>\n",
       "      <th>All</th>\n",
       "    </tr>\n",
       "    <tr>\n",
       "      <th>Sex</th>\n",
       "      <th></th>\n",
       "      <th></th>\n",
       "      <th></th>\n",
       "      <th></th>\n",
       "      <th></th>\n",
       "    </tr>\n",
       "  </thead>\n",
       "  <tbody>\n",
       "    <tr>\n",
       "      <th>Female</th>\n",
       "      <td>54</td>\n",
       "      <td>60</td>\n",
       "      <td>46</td>\n",
       "      <td>41</td>\n",
       "      <td>201</td>\n",
       "    </tr>\n",
       "    <tr>\n",
       "      <th>Male</th>\n",
       "      <td>44</td>\n",
       "      <td>40</td>\n",
       "      <td>53</td>\n",
       "      <td>57</td>\n",
       "      <td>194</td>\n",
       "    </tr>\n",
       "    <tr>\n",
       "      <th>All</th>\n",
       "      <td>98</td>\n",
       "      <td>100</td>\n",
       "      <td>99</td>\n",
       "      <td>98</td>\n",
       "      <td>395</td>\n",
       "    </tr>\n",
       "  </tbody>\n",
       "</table>\n",
       "</div>"
      ],
      "text/plain": [
       "Edu     Bachelors  High School  Masters  Ph.d.  All\n",
       "Sex                                                \n",
       "Female         54           60       46     41  201\n",
       "Male           44           40       53     57  194\n",
       "All            98          100       99     98  395"
      ]
     },
     "execution_count": 46,
     "metadata": {},
     "output_type": "execute_result"
    }
   ],
   "source": [
    "df2 = pd.crosstab(df_edu.Sex, df_edu.Edu,df_edu.Marks, aggfunc=\"sum\",margins=True)\n",
    "df2"
   ]
  },
  {
   "cell_type": "code",
   "execution_count": 47,
   "metadata": {},
   "outputs": [],
   "source": [
    "df2.columns = [\"Bachelors\",\"High School\",\"Masters\",\"Ph.d.\",\"row_totals\"]\n",
    "\n",
    "df2.index = [\"Female\",\"Male\",\"col_totals\"]"
   ]
  },
  {
   "cell_type": "code",
   "execution_count": 48,
   "metadata": {},
   "outputs": [
    {
     "data": {
      "text/html": [
       "<div>\n",
       "<style scoped>\n",
       "    .dataframe tbody tr th:only-of-type {\n",
       "        vertical-align: middle;\n",
       "    }\n",
       "\n",
       "    .dataframe tbody tr th {\n",
       "        vertical-align: top;\n",
       "    }\n",
       "\n",
       "    .dataframe thead th {\n",
       "        text-align: right;\n",
       "    }\n",
       "</style>\n",
       "<table border=\"1\" class=\"dataframe\">\n",
       "  <thead>\n",
       "    <tr style=\"text-align: right;\">\n",
       "      <th></th>\n",
       "      <th>Bachelors</th>\n",
       "      <th>High School</th>\n",
       "      <th>Masters</th>\n",
       "      <th>Ph.d.</th>\n",
       "      <th>row_totals</th>\n",
       "    </tr>\n",
       "  </thead>\n",
       "  <tbody>\n",
       "    <tr>\n",
       "      <th>Female</th>\n",
       "      <td>54</td>\n",
       "      <td>60</td>\n",
       "      <td>46</td>\n",
       "      <td>41</td>\n",
       "      <td>201</td>\n",
       "    </tr>\n",
       "    <tr>\n",
       "      <th>Male</th>\n",
       "      <td>44</td>\n",
       "      <td>40</td>\n",
       "      <td>53</td>\n",
       "      <td>57</td>\n",
       "      <td>194</td>\n",
       "    </tr>\n",
       "    <tr>\n",
       "      <th>col_totals</th>\n",
       "      <td>98</td>\n",
       "      <td>100</td>\n",
       "      <td>99</td>\n",
       "      <td>98</td>\n",
       "      <td>395</td>\n",
       "    </tr>\n",
       "  </tbody>\n",
       "</table>\n",
       "</div>"
      ],
      "text/plain": [
       "            Bachelors  High School  Masters  Ph.d.  row_totals\n",
       "Female             54           60       46     41         201\n",
       "Male               44           40       53     57         194\n",
       "col_totals         98          100       99     98         395"
      ]
     },
     "execution_count": 48,
     "metadata": {},
     "output_type": "execute_result"
    }
   ],
   "source": [
    "df2"
   ]
  },
  {
   "cell_type": "code",
   "execution_count": 49,
   "metadata": {},
   "outputs": [
    {
     "data": {
      "text/html": [
       "<div>\n",
       "<style scoped>\n",
       "    .dataframe tbody tr th:only-of-type {\n",
       "        vertical-align: middle;\n",
       "    }\n",
       "\n",
       "    .dataframe tbody tr th {\n",
       "        vertical-align: top;\n",
       "    }\n",
       "\n",
       "    .dataframe thead th {\n",
       "        text-align: right;\n",
       "    }\n",
       "</style>\n",
       "<table border=\"1\" class=\"dataframe\">\n",
       "  <thead>\n",
       "    <tr style=\"text-align: right;\">\n",
       "      <th></th>\n",
       "      <th>Bachelors</th>\n",
       "      <th>High School</th>\n",
       "      <th>Masters</th>\n",
       "      <th>Ph.d.</th>\n",
       "    </tr>\n",
       "  </thead>\n",
       "  <tbody>\n",
       "    <tr>\n",
       "      <th>Female</th>\n",
       "      <td>54</td>\n",
       "      <td>60</td>\n",
       "      <td>46</td>\n",
       "      <td>41</td>\n",
       "    </tr>\n",
       "    <tr>\n",
       "      <th>Male</th>\n",
       "      <td>44</td>\n",
       "      <td>40</td>\n",
       "      <td>53</td>\n",
       "      <td>57</td>\n",
       "    </tr>\n",
       "  </tbody>\n",
       "</table>\n",
       "</div>"
      ],
      "text/plain": [
       "        Bachelors  High School  Masters  Ph.d.\n",
       "Female         54           60       46     41\n",
       "Male           44           40       53     57"
      ]
     },
     "execution_count": 49,
     "metadata": {},
     "output_type": "execute_result"
    }
   ],
   "source": [
    "#df = pd.pivot_table(df_edu,index='Sex',columns='Edu',values='Marks',aggfunc=[np.sum],margins=True,margins_name='Count')\n",
    "\n",
    "observed = df2.iloc[0:2,0:4]   # Get table without totals for later use\n",
    "observed"
   ]
  },
  {
   "cell_type": "markdown",
   "metadata": {},
   "source": [
    "##### For a test of independence, we use the same chi-squared formula that we used for the goodness-of-fit test. The main difference is we have to calculate the expected counts of each cell in a 2-dimensional table instead of a 1-dimensional table. To get the expected count for a cell, multiply the row total for that cell by the column total for that cell and then divide by the total number of observations. We can quickly get the expected counts for all cells in the table by taking the row totals and column totals of the table, performing an outer product on them with the np.outer() function and dividing by the number of observations:"
   ]
  },
  {
   "cell_type": "code",
   "execution_count": 50,
   "metadata": {},
   "outputs": [
    {
     "data": {
      "text/html": [
       "<div>\n",
       "<style scoped>\n",
       "    .dataframe tbody tr th:only-of-type {\n",
       "        vertical-align: middle;\n",
       "    }\n",
       "\n",
       "    .dataframe tbody tr th {\n",
       "        vertical-align: top;\n",
       "    }\n",
       "\n",
       "    .dataframe thead th {\n",
       "        text-align: right;\n",
       "    }\n",
       "</style>\n",
       "<table border=\"1\" class=\"dataframe\">\n",
       "  <thead>\n",
       "    <tr style=\"text-align: right;\">\n",
       "      <th></th>\n",
       "      <th>Bachelors</th>\n",
       "      <th>High School</th>\n",
       "      <th>Masters</th>\n",
       "      <th>Ph.d.</th>\n",
       "    </tr>\n",
       "  </thead>\n",
       "  <tbody>\n",
       "    <tr>\n",
       "      <th>Female</th>\n",
       "      <td>49.868354</td>\n",
       "      <td>50.886076</td>\n",
       "      <td>50.377215</td>\n",
       "      <td>49.868354</td>\n",
       "    </tr>\n",
       "    <tr>\n",
       "      <th>Male</th>\n",
       "      <td>48.131646</td>\n",
       "      <td>49.113924</td>\n",
       "      <td>48.622785</td>\n",
       "      <td>48.131646</td>\n",
       "    </tr>\n",
       "  </tbody>\n",
       "</table>\n",
       "</div>"
      ],
      "text/plain": [
       "        Bachelors  High School    Masters      Ph.d.\n",
       "Female  49.868354    50.886076  50.377215  49.868354\n",
       "Male    48.131646    49.113924  48.622785  48.131646"
      ]
     },
     "execution_count": 50,
     "metadata": {},
     "output_type": "execute_result"
    }
   ],
   "source": [
    "expected =  np.outer(df2[\"row_totals\"][0:2],\n",
    "                     df2.loc[\"col_totals\"][0:4]) / 395.0\n",
    "expected = pd.DataFrame(expected)\n",
    "expected.columns = [\"Bachelors\",\"High School\",\"Masters\",\"Ph.d.\"]\n",
    "expected.index = [\"Female\",\"Male\"]\n",
    "expected"
   ]
  },
  {
   "cell_type": "markdown",
   "metadata": {},
   "source": [
    "#### calculate the chi-square statistic, the critical value and the p-value:\n",
    "\n",
    "*Note: We call .sum() twice: once to get the column sums and a second time to add the column sums together, returning the sum of the entire 2D table.\n"
   ]
  },
  {
   "cell_type": "code",
   "execution_count": 51,
   "metadata": {},
   "outputs": [
    {
     "name": "stdout",
     "output_type": "stream",
     "text": [
      "8.006066246262538\n"
     ]
    }
   ],
   "source": [
    "chi_squared_stat = (((observed-expected)**2)/expected).sum().sum()\n",
    "\n",
    "print(chi_squared_stat)"
   ]
  },
  {
   "cell_type": "markdown",
   "metadata": {},
   "source": [
    "*Note: The degrees of freedom for a test of independence equals the product of the number of categories in each variable minus 1. In this case we have a 2x4 table so df = 1x3 = 3."
   ]
  },
  {
   "cell_type": "code",
   "execution_count": 52,
   "metadata": {},
   "outputs": [
    {
     "name": "stdout",
     "output_type": "stream",
     "text": [
      "Critical value\n",
      "7.814727903251179\n",
      "P value\n",
      "0.04588650089174717\n"
     ]
    }
   ],
   "source": [
    "crit = stats.chi2.ppf(q = 0.95, # Find the critical value for 95% confidence*\n",
    "                      df = 3)   # *\n",
    "\n",
    "print(\"Critical value\")\n",
    "print(crit)\n",
    "\n",
    "p_value = 1 - stats.chi2.cdf(x=chi_squared_stat,  # Find the p-value\n",
    "                             df=3)\n",
    "print(\"P value\")\n",
    "print(p_value)"
   ]
  },
  {
   "cell_type": "markdown",
   "metadata": {},
   "source": [
    "#### Use stats.chi2_contingency() function to conduct a test of independence automatically given a frequency table of observed counts:"
   ]
  },
  {
   "cell_type": "code",
   "execution_count": 53,
   "metadata": {},
   "outputs": [
    {
     "data": {
      "text/plain": [
       "(8.006066246262538,\n",
       " 0.045886500891747214,\n",
       " 3,\n",
       " array([[49.86835443, 50.88607595, 50.37721519, 49.86835443],\n",
       "        [48.13164557, 49.11392405, 48.62278481, 48.13164557]]))"
      ]
     },
     "execution_count": 53,
     "metadata": {},
     "output_type": "execute_result"
    }
   ],
   "source": [
    "stats.chi2_contingency(observed= observed)"
   ]
  },
  {
   "cell_type": "markdown",
   "metadata": {},
   "source": [
    "#### Note\n",
    "\n",
    "#### The output shows the chi-square statistic = 8, the p-value as 0.045 and the degrees of freedom as 3 followed by the expected counts.\n",
    "\n",
    "#### The critical value with 3 degree of freedom is 7.815. Since 8.006 > 7.815, therefore we reject the null hypothesis and conclude that the education level depends on gender at a 5% level of significance.\n"
   ]
  },
  {
   "cell_type": "markdown",
   "metadata": {},
   "source": [
    "#### Question 2: Using the following data, perform a oneway analysis of variance using α=.05. Write up the results in APA format.\n",
    "##### [Group1: 51, 45, 33, 45, 67] [Group2: 23, 43, 23, 43, 45] [Group3: 56, 76, 74, 87, 56]\n"
   ]
  },
  {
   "cell_type": "code",
   "execution_count": 54,
   "metadata": {},
   "outputs": [
    {
     "name": "stdout",
     "output_type": "stream",
     "text": [
      "F Statistic value 9.747205503009463 , p-value 0.0030597541434430556\n",
      "True\n"
     ]
    }
   ],
   "source": [
    "#The analysis of variance or ANOVA is a statistical inference test that lets you compare multiple groups at the same time.\n",
    "#The one-way ANOVA tests whether the mean of some numeric variable differs across the levels of one categorical variable. \n",
    "#It essentially answers the question: do any of the group means differ from one another? \n",
    "\n",
    "#The scipy library has a function for carrying out one-way ANOVA tests called scipy.stats.f_oneway()\n",
    "import scipy.stats as stats\n",
    "Group1 = [51, 45, 33, 45, 67]\n",
    "Group2 = [23, 43, 23, 43, 45]\n",
    "Group3 = [56, 76, 74, 87, 56]\n",
    "# Perform the ANOVA\n",
    "statistic, pvalue = stats.f_oneway(Group1,Group2,Group3)\n",
    "print(\"F Statistic value {} , p-value {}\".format(statistic,pvalue))\n",
    "if pvalue < 0.05:\n",
    "    print('True')\n",
    "else:\n",
    "    print('False')"
   ]
  },
  {
   "cell_type": "markdown",
   "metadata": {},
   "source": [
    "######## Note The test result suggests the groups don't have the same sample means in this case, since the p-value is significant at a 99% confidence level. Here the p-value returned is 0.00305 which is < 0.05"
   ]
  },
  {
   "cell_type": "markdown",
   "metadata": {},
   "source": [
    "\n",
    "\n",
    "#### Problem Statement 3:\n",
    "\n",
    "###### Calculate F Test for given 10, 20, 30, 40, 50 and 5,10,15, 20, 25. For 10, 20, 30, 40, 50:\n"
   ]
  },
  {
   "cell_type": "code",
   "execution_count": 55,
   "metadata": {},
   "outputs": [
    {
     "data": {
      "text/plain": [
       "F_onewayResult(statistic=3.6, pvalue=0.0943497728424377)"
      ]
     },
     "execution_count": 55,
     "metadata": {},
     "output_type": "execute_result"
    }
   ],
   "source": [
    "stats.f_oneway([10, 20, 30, 40, 50],[5,10,15, 20, 25])"
   ]
  },
  {
   "cell_type": "code",
   "execution_count": 56,
   "metadata": {},
   "outputs": [
    {
     "name": "stdout",
     "output_type": "stream",
     "text": [
      "F Test for given 10, 20, 30, 40, 50 and 5,10,15, 20, 25 is :  4.0\n"
     ]
    }
   ],
   "source": [
    "Group1 = [10, 20, 30, 40, 50]\n",
    "Group2 = [5,10,15, 20, 25]\n",
    "\n",
    "mean_1 = np.mean(Group1)\n",
    "mean_2 = np.mean(Group2)\n",
    "\n",
    "grp1_sub_mean1 = []\n",
    "grp2_sub_mean2 = []\n",
    "add1 = 0\n",
    "add2 = 0\n",
    "for items in Group1:\n",
    "    add1 += (items - mean_1)**2\n",
    "for items in Group2:\n",
    "    add2 += (items - mean_2)**2\n",
    "var1 = add1/(len(Group1)-1)\n",
    "var2 = add2/(len(Group2)-1)\n",
    "\n",
    "F_Test = var1/var2\n",
    "print(\"F Test for given 10, 20, 30, 40, 50 and 5,10,15, 20, 25 is : \",F_Test)"
   ]
  },
  {
   "cell_type": "code",
   "execution_count": null,
   "metadata": {},
   "outputs": [],
   "source": []
  }
 ],
 "metadata": {
  "kernelspec": {
   "display_name": "Python 3",
   "language": "python",
   "name": "python3"
  },
  "language_info": {
   "codemirror_mode": {
    "name": "ipython",
    "version": 3
   },
   "file_extension": ".py",
   "mimetype": "text/x-python",
   "name": "python",
   "nbconvert_exporter": "python",
   "pygments_lexer": "ipython3",
   "version": "3.6.7"
  }
 },
 "nbformat": 4,
 "nbformat_minor": 2
}
